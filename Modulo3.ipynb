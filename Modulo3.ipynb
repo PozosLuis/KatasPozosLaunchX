{
 "cells": [
  {
   "cell_type": "markdown",
   "metadata": {},
   "source": [
    "## Modulo 3\n",
    "Añadir el código necesario para crear una variable que guarde la velocidad del asteroide.\n",
    "\n",
    "Escribe una expresión de prueba para calcular si necesita una advertencia.\n",
    "\n",
    "Agregue las instrucciones que se ejecutarán si la expresión de prueba es true o false."
   ]
  },
  {
   "cell_type": "code",
   "execution_count": 3,
   "metadata": {},
   "outputs": [
    {
     "name": "stdout",
     "output_type": "stream",
     "text": [
      "Advertencia asteroide a grandes velocidades!!!\n"
     ]
    }
   ],
   "source": [
    "velAsteroide = 49\n",
    "if velAsteroide > 25:\n",
    "    alerta=\"Advertencia asteroide a grandes velocidades!!!\"\n",
    "else:\n",
    "    alerta=\"Asteroide viajando a velocidad normal\"\n",
    "print(alerta)"
   ]
  },
  {
   "cell_type": "markdown",
   "metadata": {},
   "source": [
    "Agrega el código para crear una variable para un asteroide que viaja a 19 km/s\n",
    "\n",
    "Escribe varias expresiones de prueba para determinar si puedes ver el rayo de luz desde la tierra\n",
    "\n",
    "Agrega las instrucciones que se ejecutarán si las expresiones de prueba son True o False"
   ]
  },
  {
   "cell_type": "code",
   "execution_count": 6,
   "metadata": {},
   "outputs": [
    {
     "name": "stdout",
     "output_type": "stream",
     "text": [
      "Busca un asteroide en el cielo!!\n"
     ]
    }
   ],
   "source": [
    "asteroide=19\n",
    "if asteroide < 20:\n",
    "    alerta=\"Sigue con tu dia\"\n",
    "elif asteroide > 20:\n",
    "    alerta=\"Busca un asteroide en el cielo!!\"\n",
    "else:\n",
    "    alerta=\"Busca un asteroide en el cielo!!\"\n",
    "print(alerta)"
   ]
  },
  {
   "cell_type": "markdown",
   "metadata": {},
   "source": [
    "Agrega el código para crear nuevas variables para la velocidad y el tamaño del asteroide\n",
    "Para probar el código, prueba con varias velocidades y tamaños\n",
    "Escribe varias expresiones de prueba o combinaciones de expresiones de prueba para determinar qué mensaje se debe enviar a Tierra."
   ]
  },
  {
   "cell_type": "code",
   "execution_count": 11,
   "metadata": {},
   "outputs": [
    {
     "name": "stdout",
     "output_type": "stream",
     "text": [
      "Alerta un asteroide peligroso viene hacia aca\n"
     ]
    }
   ],
   "source": [
    "velAsteroide=30\n",
    "tamAsteroide=30\n",
    "if tamAsteroide > 25 and velAsteroide > 25:\n",
    "    alerta=\"Alerta un asteroide peligroso viene hacia aca\"\n",
    "elif velAsteroide >= 20:\n",
    "    alerta=\"Busca un asteroide en el cielo!!\"\n",
    "elif tamAsteroide < 25:\n",
    "    alerta=\"Todo bien\"\n",
    "else:\n",
    "    alerta=\"Todo bien\"\n",
    "print(alerta)"
   ]
  }
 ],
 "metadata": {
  "interpreter": {
   "hash": "9a03facce76d86a932283d27b8e4e55d03f7990ddfbb33e439cb547490238e05"
  },
  "kernelspec": {
   "display_name": "Python 3.10.2 64-bit (windows store)",
   "language": "python",
   "name": "python3"
  },
  "language_info": {
   "codemirror_mode": {
    "name": "ipython",
    "version": 3
   },
   "file_extension": ".py",
   "mimetype": "text/x-python",
   "name": "python",
   "nbconvert_exporter": "python",
   "pygments_lexer": "ipython3",
   "version": "3.9.10"
  },
  "orig_nbformat": 4
 },
 "nbformat": 4,
 "nbformat_minor": 2
}

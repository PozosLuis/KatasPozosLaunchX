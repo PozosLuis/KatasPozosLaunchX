{
 "cells": [
  {
   "cell_type": "markdown",
   "metadata": {},
   "source": [
    "# Modulo 8\n",
    "### Ejercicio 1: Creación de diccionarios de Python"
   ]
  },
  {
   "cell_type": "code",
   "execution_count": 5,
   "metadata": {},
   "outputs": [
    {
     "name": "stdout",
     "output_type": "stream",
     "text": [
      "El nombre del planeta es Mars y su circunferencia polar es 6752\n"
     ]
    }
   ],
   "source": [
    "planet={\n",
    "    'name': 'Mars',\n",
    "    'moons': 2\n",
    "}\n",
    "#print(\"El nombre del planeta es\", planet['name'], \"y tiene\", planet['moons'], \"lunas\")\n",
    "planet['polar']=6752\n",
    "planet['equatorial']=6792\n",
    "print(\"El nombre del planeta es\", planet['name'], \"y su circunferencia polar es\", planet['polar'])"
   ]
  },
  {
   "cell_type": "markdown",
   "metadata": {},
   "source": [
    "### Ejercicio 2: Programación dinámica con diccionarios"
   ]
  },
  {
   "cell_type": "code",
   "execution_count": 16,
   "metadata": {},
   "outputs": [
    {
     "name": "stdout",
     "output_type": "stream",
     "text": [
      "Las lunas que hay en total son: 214 y el promedio de lunas es:  {17.833333333333332}\n"
     ]
    }
   ],
   "source": [
    "planet_moons = {\n",
    "    'mercury': 0,\n",
    "    'venus': 0,\n",
    "    'earth': 1,\n",
    "    'mars': 2,\n",
    "    'jupiter': 79,\n",
    "    'saturn': 82,\n",
    "    'uranus': 27,\n",
    "    'neptune': 14,\n",
    "    'pluto': 5,\n",
    "    'haumea': 2,\n",
    "    'makemake': 1,\n",
    "    'eris': 1\n",
    "}\n",
    "planets = len(planet_moons.keys())\n",
    "total_moons=0\n",
    "for moons in planet_moons.values():\n",
    "    total_moons += moons\n",
    "prom=total_moons/planets\n",
    "print(f'Las lunas que hay en total son: {total_moons} y el promedio de lunas es: ',{prom})"
   ]
  }
 ],
 "metadata": {
  "interpreter": {
   "hash": "9a03facce76d86a932283d27b8e4e55d03f7990ddfbb33e439cb547490238e05"
  },
  "kernelspec": {
   "display_name": "Python 3.10.2 64-bit (windows store)",
   "language": "python",
   "name": "python3"
  },
  "language_info": {
   "codemirror_mode": {
    "name": "ipython",
    "version": 3
   },
   "file_extension": ".py",
   "mimetype": "text/x-python",
   "name": "python",
   "nbconvert_exporter": "python",
   "pygments_lexer": "ipython3",
   "version": "3.10.2"
  },
  "orig_nbformat": 4
 },
 "nbformat": 4,
 "nbformat_minor": 2
}

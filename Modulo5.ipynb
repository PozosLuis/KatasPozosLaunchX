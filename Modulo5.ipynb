{
 "cells": [
  {
   "cell_type": "markdown",
   "metadata": {},
   "source": [
    "# Modulo 5\n",
    "### Ejercicio1 - Utilizar operadores aritméticos"
   ]
  },
  {
   "cell_type": "code",
   "execution_count": 5,
   "metadata": {},
   "outputs": [
    {
     "name": "stdout",
     "output_type": "stream",
     "text": [
      "La distancia entre los dos planetas es: 148028885.31599998 millas\n"
     ]
    }
   ],
   "source": [
    "planet1=628949330\n",
    "planet2=390577534\n",
    "if planet1 > planet2:\n",
    "    distancia=planet1-planet2\n",
    "elif planet1 < planet2:    \n",
    "    distancia=planet2-planet1\n",
    "else:\n",
    "    distancia=0\n",
    "distancia *= 0.621\n",
    "print(\"La distancia entre los dos planetas es: \" + str(distancia) + \" millas\")"
   ]
  },
  {
   "cell_type": "markdown",
   "metadata": {},
   "source": [
    "### Ejercicio 2: convierte cadenas en números y usa valores absolutos"
   ]
  },
  {
   "cell_type": "code",
   "execution_count": 15,
   "metadata": {},
   "outputs": [
    {
     "name": "stdout",
     "output_type": "stream",
     "text": [
      "La distancia entre los dos planetas es: 50300000 kilometros\n",
      "La distancia entre los dos planetas es: 31236300.0 millas\n"
     ]
    }
   ],
   "source": [
    "dis_sol_p1=input(\"Ingrese la distancia del sol para el planeta uno\")\n",
    "dis_sol_p2=input(\"Ingrese la distancia del sol para el planeta dos\")\n",
    "dis_sol_p2=int(dis_sol_p2)\n",
    "dis_sol_p1=int(dis_sol_p1)\n",
    "dis_km=dis_sol_p2-dis_sol_p1\n",
    "dis_km=abs(dis_km)\n",
    "dis_mi=dis_km*0.621\n",
    "print(\"La distancia entre los dos planetas es: \" + str(dis_km) + \" kilometros\")\n",
    "print(\"La distancia entre los dos planetas es: \" + str(dis_mi) + \" millas\")"
   ]
  }
 ],
 "metadata": {
  "interpreter": {
   "hash": "9a03facce76d86a932283d27b8e4e55d03f7990ddfbb33e439cb547490238e05"
  },
  "kernelspec": {
   "display_name": "Python 3.10.2 64-bit (windows store)",
   "language": "python",
   "name": "python3"
  },
  "language_info": {
   "codemirror_mode": {
    "name": "ipython",
    "version": 3
   },
   "file_extension": ".py",
   "mimetype": "text/x-python",
   "name": "python",
   "nbconvert_exporter": "python",
   "pygments_lexer": "ipython3",
   "version": "3.10.2"
  },
  "orig_nbformat": 4
 },
 "nbformat": 4,
 "nbformat_minor": 2
}

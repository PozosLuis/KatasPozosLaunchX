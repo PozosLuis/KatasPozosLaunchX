{
 "cells": [
  {
   "cell_type": "markdown",
   "metadata": {},
   "source": [
    "# Modulo 9\n",
    "### Ejercicio: Uso de funciones en Python"
   ]
  },
  {
   "cell_type": "code",
   "execution_count": null,
   "metadata": {},
   "outputs": [],
   "source": [
    "def prom(valores):\n",
    "    suma=sum(valores)\n",
    "    total=len(valores)\n",
    "    return suma/total\n",
    "def combustible(lec1, lec2, lec3):\n",
    "    return f\"\"\"Informe:\n",
    "    Tanque 1: {lec1}\n",
    "    Tanque 2: {lec2}\n",
    "    Tanque 3: {lec3}\n",
    "    Promedio total: {prom([lec1,lec2,lec3])}\"\"\"\n",
    "print(combustible(20,30,20))"
   ]
  },
  {
   "cell_type": "markdown",
   "metadata": {},
   "source": [
    "### Ejercicio 2: Trabajo con argumentos de palabra clave"
   ]
  },
  {
   "cell_type": "code",
   "execution_count": null,
   "metadata": {},
   "outputs": [],
   "source": [
    "def informe1(hora, tiempo, destino, Texterno, Tinterno):\n",
    "    return f\"\"\"Informe del cohete:\n",
    "    Hora de prelanzamiento: {hora}\n",
    "    Tiempo de vuelo: {tiempo}\n",
    "    Destino: {destino}\n",
    "    Tanque externo: {Texterno}\n",
    "    Tanque interno: {Tinterno}\"\"\"\n",
    "print(informe1(10, 64, \"La luna\", 100000, 200000))"
   ]
  },
  {
   "cell_type": "code",
   "execution_count": 33,
   "metadata": {},
   "outputs": [
    {
     "name": "stdout",
     "output_type": "stream",
     "text": [
      "Reporte:\n",
      "    Destino a Tu corazon\n",
      "    Tiempo estimado: 60\n",
      "    Total de gasolina: 4000\n"
     ]
    }
   ],
   "source": [
    "def informe(desti, *minutos, **reservas):\n",
    "    return f\"\"\"Reporte:\n",
    "    Destino a {desti}\n",
    "    Tiempo estimado: {sum(minutos)}\n",
    "    Total de gasolina: {sum(reservas.values())}\"\"\"\n",
    "print(informe(\"Tu corazon\", 20, 20, 20, tanque1=2000, tanque2=2000))"
   ]
  },
  {
   "cell_type": "code",
   "execution_count": 36,
   "metadata": {},
   "outputs": [
    {
     "name": "stdout",
     "output_type": "stream",
     "text": [
      "Reporte:\n",
      "\n",
      "    Destino a Tu corazon\n",
      "    Tiempo estimado: 60\n",
      "    Total de gasolina: 4000\n",
      "    tanque1 contiene 2000 litros\n",
      "tanque2 contiene 2000 litros\n",
      "\n"
     ]
    }
   ],
   "source": [
    "def informe(desti, *minutos, **reservas):\n",
    "    reporte= f\"\"\"Reporte:\n",
    "    Destino a {desti}\n",
    "    Tiempo estimado: {sum(minutos)}\n",
    "    Total de gasolina: {sum(reservas.values())}\n",
    "    \"\"\"\n",
    "    for tanque, litros in reservas.items():\n",
    "        reporte += f\"{tanque} contiene {litros} litros\\n\"\n",
    "    return reporte\n",
    "\n",
    "print(informe(\"Tu corazon\", 20, 20, 20, tanque1=2000, tanque2=2000))"
   ]
  }
 ],
 "metadata": {
  "interpreter": {
   "hash": "9a03facce76d86a932283d27b8e4e55d03f7990ddfbb33e439cb547490238e05"
  },
  "kernelspec": {
   "display_name": "Python 3.10.2 64-bit (windows store)",
   "language": "python",
   "name": "python3"
  },
  "language_info": {
   "codemirror_mode": {
    "name": "ipython",
    "version": 3
   },
   "file_extension": ".py",
   "mimetype": "text/x-python",
   "name": "python",
   "nbconvert_exporter": "python",
   "pygments_lexer": "ipython3",
   "version": "3.10.2"
  },
  "orig_nbformat": 4
 },
 "nbformat": 4,
 "nbformat_minor": 2
}

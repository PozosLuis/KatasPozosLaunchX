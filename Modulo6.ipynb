{
 "cells": [
  {
   "cell_type": "markdown",
   "metadata": {},
   "source": [
    "# Modulo 6\n",
    "### Ejercicio1: Crear y usar listas de Python"
   ]
  },
  {
   "cell_type": "code",
   "execution_count": 20,
   "metadata": {},
   "outputs": [
    {
     "name": "stdout",
     "output_type": "stream",
     "text": [
      "Los planetas mas cercanos al sol de acuerdo al planeta que pusiste son:  ['Mercurio', 'Venus']\n",
      "Los planetas mas lejanos al sol de acuerdo al planeta que pusiste son:  ['Marte', 'Júpiter', 'Saturno', 'Urano', 'Neptuno']\n"
     ]
    }
   ],
   "source": [
    "planets=[\"Mercurio\", \"Venus\", \"Tierra\", \"Marte\", \"Júpiter\", \"Saturno\", \"Urano\", \"Neptuno\"]\n",
    "num_planets=len(planets)\n"
   ]
  },
  {
   "cell_type": "markdown",
   "metadata": {},
   "source": [
    "### Ejercicio 2: Trabajando con datos de una lista"
   ]
  },
  {
   "cell_type": "code",
   "execution_count": null,
   "metadata": {},
   "outputs": [],
   "source": [
    "planets=[\"Mercurio\", \"Venus\", \"Tierra\", \"Marte\", \"Júpiter\", \"Saturno\", \"Urano\", \"Neptuno\"]\n",
    "num_planets=len(planets)\n",
    "#print(\"Existen\" , str(num_planets) , \"planetas y estos son\" , planets)\n",
    "usua_planet=input(\"Ingrese el nombre de un planeta introduciendo la primera letra mayuscula\")\n",
    "buscar=planets.index(usua_planet)\n",
    "planets_sun=planets[0:buscar]\n",
    "planets_sun_=planets[buscar+1:]\n",
    "print(\"Los planetas mas cercanos al sol de acuerdo al planeta que pusiste son: \", planets_sun)\n",
    "print(\"Los planetas mas lejanos al sol de acuerdo al planeta que pusiste son: \", planets_sun_)\n"
   ]
  }
 ],
 "metadata": {
  "interpreter": {
   "hash": "9a03facce76d86a932283d27b8e4e55d03f7990ddfbb33e439cb547490238e05"
  },
  "kernelspec": {
   "display_name": "Python 3.10.2 64-bit (windows store)",
   "language": "python",
   "name": "python3"
  },
  "language_info": {
   "codemirror_mode": {
    "name": "ipython",
    "version": 3
   },
   "file_extension": ".py",
   "mimetype": "text/x-python",
   "name": "python",
   "nbconvert_exporter": "python",
   "pygments_lexer": "ipython3",
   "version": "3.10.2"
  },
  "orig_nbformat": 4
 },
 "nbformat": 4,
 "nbformat_minor": 2
}
